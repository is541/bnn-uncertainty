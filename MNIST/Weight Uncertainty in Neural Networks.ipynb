{
 "cells": [
  {
   "cell_type": "markdown",
   "metadata": {
    "colab_type": "text",
    "id": "JbQWL5WznhJS"
   },
   "source": [
    "# Bayes by Backprop\n",
    "An implementation of the algorithm described in https://arxiv.org/abs/1505.05424.  \n",
    "This notebook accompanies the article at https://www.nitarshan.com/bayes-by-backprop."
   ]
  },
  {
   "cell_type": "code",
   "execution_count": 2,
   "metadata": {
    "colab": {
     "autoexec": {
      "startup": false,
      "wait_interval": 0
     }
    },
    "colab_type": "code",
    "id": "yNGUXrL_osEt"
   },
   "outputs": [],
   "source": [
    "%matplotlib inline\n",
    "import math\n",
    "import matplotlib.pyplot as plt\n",
    "import numpy as np\n",
    "import seaborn as sns\n",
    "import torch\n",
    "import torch.nn as nn\n",
    "import torch.nn.functional as F\n",
    "import torch.optim as optim\n",
    "\n",
    "from tensorboardX import SummaryWriter\n",
    "from torchvision import datasets, transforms\n",
    "from torchvision.utils import make_grid\n",
    "from tqdm import tqdm, trange\n",
    "\n",
    "writer = SummaryWriter()\n",
    "sns.set()\n",
    "sns.set_style(\"dark\")\n",
    "sns.set_palette(\"muted\")\n",
    "sns.set_color_codes(\"muted\")"
   ]
  },
  {
   "cell_type": "code",
   "execution_count": 3,
   "metadata": {},
   "outputs": [
    {
     "name": "stdout",
     "output_type": "stream",
     "text": [
      "MedMNIST v2.1.0 @ https://github.com/MedMNIST/MedMNIST/\n"
     ]
    }
   ],
   "source": [
    "import torch.utils.data as data\n",
    "import medmnist\n",
    "from medmnist import INFO, Evaluator\n",
    "print(f\"MedMNIST v{medmnist.__version__} @ {medmnist.HOMEPAGE}\")"
   ]
  },
  {
   "cell_type": "code",
   "execution_count": 4,
   "metadata": {
    "colab": {
     "autoexec": {
      "startup": false,
      "wait_interval": 0
     },
     "base_uri": "https://localhost:8080/",
     "height": 34
    },
    "colab_type": "code",
    "executionInfo": {
     "elapsed": 397,
     "status": "ok",
     "timestamp": 1528263793235,
     "user": {
      "displayName": "Nitarshan Rajkumar",
      "photoUrl": "//lh6.googleusercontent.com/-oLz5q0aJmAQ/AAAAAAAAAAI/AAAAAAAAAIY/O0-NjvATt18/s50-c-k-no/photo.jpg",
      "userId": "117587045527370134083"
     },
     "user_tz": 420
    },
    "id": "oGXTNl-Vt7PF",
    "outputId": "d53f7e66-2071-43f4-ac11-9589ba4846c2"
   },
   "outputs": [
    {
     "name": "stdout",
     "output_type": "stream",
     "text": [
      "device mps\n",
      "True\n"
     ]
    }
   ],
   "source": [
    "DEVICE = torch.device(\"mps\" if torch.backends.mps.is_available() else \"cpu\")\n",
    "print(\"device\", DEVICE)\n",
    "LOADER_KWARGS = {'num_workers': 1, 'pin_memory': True} if torch.backends.mps.is_available() else {}\n",
    "print(torch.backends.mps.is_available())"
   ]
  },
  {
   "cell_type": "markdown",
   "metadata": {
    "colab_type": "text",
    "id": "-N2EKVF_muVQ"
   },
   "source": [
    "## Data Preparation"
   ]
  },
  {
   "cell_type": "code",
   "execution_count": 5,
   "metadata": {},
   "outputs": [
    {
     "name": "stdout",
     "output_type": "stream",
     "text": [
      "Using downloaded and verified file: /Users/emmaprevot/.medmnist/breastmnist.npz\n",
      "Using downloaded and verified file: /Users/emmaprevot/.medmnist/breastmnist.npz\n",
      "Using downloaded and verified file: /Users/emmaprevot/.medmnist/breastmnist.npz\n"
     ]
    }
   ],
   "source": [
    "# WE FIRST WORK ON A BINARY CLASSIFICATION DATASET \n",
    "data_flag = 'breastmnist'\n",
    "download = True\n",
    "\n",
    "NUM_EPOCHS = 3\n",
    "BATCH_SIZE = 26\n",
    "TEST_BATCH_SIZE = 4\n",
    "lr = 0.001\n",
    "\n",
    "info = INFO[data_flag]\n",
    "task = info['task']\n",
    "n_channels = info['n_channels']\n",
    "n_classes = len(info['label'])\n",
    "\n",
    "DataClass = getattr(medmnist, info['python_class'])\n",
    "\n",
    "\n",
    "# preprocessing\n",
    "data_transform = transforms.Compose([\n",
    "    transforms.ToTensor(),\n",
    "    transforms.Normalize(mean=[.5], std=[.5])\n",
    "])\n",
    "\n",
    "# load the data\n",
    "train_dataset = DataClass(split='train', transform=data_transform, download=download)\n",
    "test_dataset = DataClass(split='test', transform=data_transform, download=download)\n",
    "\n",
    "pil_dataset = DataClass(split='train', download=download)\n",
    "\n",
    "# encapsulate data into dataloader form\n",
    "train_loader = data.DataLoader(dataset=train_dataset, batch_size=BATCH_SIZE, shuffle=True)\n",
    "train_loader_at_eval = data.DataLoader(dataset=train_dataset, batch_size=TEST_BATCH_SIZE, shuffle=False)\n",
    "test_loader = data.DataLoader(dataset=test_dataset, batch_size=TEST_BATCH_SIZE, shuffle=False)"
   ]
  },
  {
   "cell_type": "markdown",
   "metadata": {},
   "source": [
    "\"breastmnist\": {\n",
    "        \"python_class\": \"BreastMNIST\",\n",
    "        \"description\":\n",
    "        \"The BreastMNIST is based on a dataset of 780 breast ultrasound images. It is categorized into 3 classes: normal, benign, and malignant. As we use low-resolution images, we simplify the task into binary classification by combining normal and benign as positive and classifying them against malignant as negative. We split the source dataset with a ratio of 7:1:2 into training, validation and test set. The source images of 1×500×500 are resized into 1×28×28.\",\n",
    "        \"url\":\n",
    "        \"https://zenodo.org/record/6496656/files/breastmnist.npz?download=1\",\n",
    "        \"MD5\": \"750601b1f35ba3300ea97c75c52ff8f6\",\n",
    "        \"task\": \"binary-class\",\n",
    "        \"label\": {\n",
    "            \"0\": \"malignant\",\n",
    "            \"1\": \"normal, benign\"\n",
    "        },\n",
    "        \"n_channels\": 1,\n",
    "        \"n_samples\": {\n",
    "            \"train\": 546,\n",
    "            \"val\": 78,\n",
    "            \"test\": 156\n",
    "        },\n",
    "        \"license\": \"CC BY 4.0\"\n",
    "    },"
   ]
  },
  {
   "cell_type": "code",
   "execution_count": 73,
   "metadata": {},
   "outputs": [
    {
     "name": "stdout",
     "output_type": "stream",
     "text": [
      "Dataset BreastMNIST (breastmnist)\n",
      "    Number of datapoints: 546\n",
      "    Root location: /Users/emmaprevot/.medmnist\n",
      "    Split: train\n",
      "    Task: binary-class\n",
      "    Number of channels: 1\n",
      "    Meaning of labels: {'0': 'malignant', '1': 'normal, benign'}\n",
      "    Number of samples: {'train': 546, 'val': 78, 'test': 156}\n",
      "    Description: The BreastMNIST is based on a dataset of 780 breast ultrasound images. It is categorized into 3 classes: normal, benign, and malignant. As we use low-resolution images, we simplify the task into binary classification by combining normal and benign as positive and classifying them against malignant as negative. We split the source dataset with a ratio of 7:1:2 into training, validation and test set. The source images of 1×500×500 are resized into 1×28×28.\n",
      "    License: CC BY 4.0\n",
      "===================\n",
      "Dataset BreastMNIST (breastmnist)\n",
      "    Number of datapoints: 156\n",
      "    Root location: /Users/emmaprevot/.medmnist\n",
      "    Split: test\n",
      "    Task: binary-class\n",
      "    Number of channels: 1\n",
      "    Meaning of labels: {'0': 'malignant', '1': 'normal, benign'}\n",
      "    Number of samples: {'train': 546, 'val': 78, 'test': 156}\n",
      "    Description: The BreastMNIST is based on a dataset of 780 breast ultrasound images. It is categorized into 3 classes: normal, benign, and malignant. As we use low-resolution images, we simplify the task into binary classification by combining normal and benign as positive and classifying them against malignant as negative. We split the source dataset with a ratio of 7:1:2 into training, validation and test set. The source images of 1×500×500 are resized into 1×28×28.\n",
      "    License: CC BY 4.0\n"
     ]
    }
   ],
   "source": [
    "print(train_dataset)\n",
    "print(\"===================\")\n",
    "print(test_dataset)"
   ]
  },
  {
   "cell_type": "code",
   "execution_count": null,
   "metadata": {},
   "outputs": [],
   "source": [
    "train_dataset.montage(length=1)"
   ]
  },
  {
   "cell_type": "code",
   "execution_count": 6,
   "metadata": {},
   "outputs": [
    {
     "name": "stdout",
     "output_type": "stream",
     "text": [
      "546\n",
      "156\n"
     ]
    }
   ],
   "source": [
    "TRAIN_SIZE = len(train_dataset)\n",
    "TEST_SIZE = len(test_loader.dataset)\n",
    "NUM_BATCHES = len(train_loader)\n",
    "NUM_TEST_BATCHES = len(test_loader)\n",
    "\n",
    "print(TRAIN_SIZE)\n",
    "print(TEST_SIZE)\n",
    "\n",
    "CLASSES = 2\n",
    "SAMPLES = 2\n",
    "TEST_SAMPLES = 10\n",
    "\n",
    "assert (TRAIN_SIZE % BATCH_SIZE) == 0\n",
    "assert (TEST_SIZE % TEST_BATCH_SIZE) == 0"
   ]
  },
  {
   "cell_type": "code",
   "execution_count": 34,
   "metadata": {
    "colab": {
     "autoexec": {
      "startup": false,
      "wait_interval": 0
     }
    },
    "colab_type": "code",
    "id": "SMzSB6ebovaD"
   },
   "outputs": [],
   "source": [
    "BATCH_SIZE = 100\n",
    "TEST_BATCH_SIZE = 5\n",
    "\n",
    "train_loader = torch.utils.data.DataLoader(\n",
    "    datasets.FashionMNIST(\n",
    "        './fmnist', train=True, download=True,\n",
    "        transform=transforms.ToTensor()),\n",
    "    batch_size=BATCH_SIZE, shuffle=True, **LOADER_KWARGS)\n",
    "test_loader = torch.utils.data.DataLoader(\n",
    "    datasets.FashionMNIST(\n",
    "        './fmnist', train=False, download=True,\n",
    "        transform=transforms.ToTensor()),\n",
    "    batch_size=TEST_BATCH_SIZE, shuffle=False, **LOADER_KWARGS)\n",
    "\n",
    "TRAIN_SIZE = len(train_loader.dataset)\n",
    "TEST_SIZE = len(test_loader.dataset)\n",
    "NUM_BATCHES = len(train_loader)\n",
    "NUM_TEST_BATCHES = len(test_loader)\n",
    "\n",
    "CLASSES = 10\n",
    "TRAIN_EPOCHS = 50\n",
    "SAMPLES = 2\n",
    "TEST_SAMPLES = 10\n",
    "\n",
    "assert (TRAIN_SIZE % BATCH_SIZE) == 0\n",
    "assert (TEST_SIZE % TEST_BATCH_SIZE) == 0"
   ]
  },
  {
   "cell_type": "markdown",
   "metadata": {
    "colab_type": "text",
    "id": "3hkpPckMmRUR"
   },
   "source": [
    "## Modelling\n",
    "$$\\underline{\\text{Reparameterized Gaussian}}$$\n",
    "$$\\begin{aligned}\n",
    "\\theta &= (\\mu, \\rho)\\\\\n",
    "\\sigma &= \\ln{(1+e^\\rho)}\\\\\n",
    "\\mathcal{N}(x\\vert \\mu, \\sigma) &= \\frac{1}{\\sqrt{2\\pi}\\sigma}e^{-\\frac{(x-\\mu)^2}{2\\sigma^2}}\\\\\n",
    "\\ln{\\mathcal{N}(x\\vert \\mu, \\sigma)} &= -\\ln{\\sqrt{2\\pi}} -\\ln{\\sigma} -\\frac{(x-\\mu)^2}{2\\sigma^2}\\\\\n",
    "P(\\mathbf{w}) &= \\prod_j{\\mathcal{N}(\\mathbf{w}_j \\vert 0, \\sigma^2)}\\\\\n",
    "\\ln{P(\\mathbf{w})} &= \\sum_j{\\ln{\\mathcal{N}(\\mathbf{w}_j \\vert 0, \\sigma^2)}}\\\\\n",
    "\\end{aligned}$$"
   ]
  },
  {
   "cell_type": "code",
   "execution_count": 7,
   "metadata": {
    "colab": {
     "autoexec": {
      "startup": false,
      "wait_interval": 0
     }
    },
    "colab_type": "code",
    "id": "q9-GjqfnozFI"
   },
   "outputs": [],
   "source": [
    "class Gaussian(object):\n",
    "    def __init__(self, mu, rho):\n",
    "        super().__init__()\n",
    "        self.mu = mu\n",
    "        self.rho = rho\n",
    "        self.normal = torch.distributions.Normal(0,1)\n",
    "    \n",
    "    @property\n",
    "    def sigma(self):\n",
    "        return torch.log1p(torch.exp(self.rho))\n",
    "    \n",
    "    def sample(self):\n",
    "        epsilon = self.normal.sample(self.rho.size()).to(DEVICE)\n",
    "        return self.mu + self.sigma * epsilon\n",
    "    \n",
    "    def log_prob(self, input):\n",
    "        return (-math.log(math.sqrt(2 * math.pi))\n",
    "                - torch.log(self.sigma)\n",
    "                - ((input - self.mu) ** 2) / (2 * self.sigma ** 2)).sum()"
   ]
  },
  {
   "cell_type": "markdown",
   "metadata": {
    "colab_type": "text",
    "id": "bezhA1xVntod"
   },
   "source": [
    "$$\\underline{\\text{Scale Mixture Gaussian}}$$\n",
    "$$\\begin{align}\n",
    "P(\\mathbf{w}) &= \\prod_j{\\pi \\mathcal{N}(\\mathbf{w}_j \\vert 0, \\sigma_1^2) + (1-\\pi) \\mathcal{N}(\\mathbf{w}_j \\vert 0, \\sigma_2^2)}\\\\\n",
    "\\ln{P(\\mathbf{w})} &= \\sum_j{\\ln{(\\pi \\mathcal{N}(\\mathbf{w}_j \\vert 0, \\sigma_1^2) + (1-\\pi) \\mathcal{N}(\\mathbf{w}_j \\vert 0, \\sigma_2^2))}}\\\\\n",
    "\\end{align}$$"
   ]
  },
  {
   "cell_type": "code",
   "execution_count": 8,
   "metadata": {
    "colab": {
     "autoexec": {
      "startup": false,
      "wait_interval": 0
     }
    },
    "colab_type": "code",
    "id": "L3wQlWNVo3S_"
   },
   "outputs": [],
   "source": [
    "class ScaleMixtureGaussian(object):\n",
    "    def __init__(self, pi, sigma1, sigma2):\n",
    "        super().__init__()\n",
    "        self.pi = pi\n",
    "        self.sigma1 = sigma1\n",
    "        self.sigma2 = sigma2\n",
    "        self.gaussian1 = torch.distributions.Normal(0,sigma1)\n",
    "        self.gaussian2 = torch.distributions.Normal(0,sigma2)\n",
    "    \n",
    "    def log_prob(self, input):\n",
    "        prob1 = torch.exp(self.gaussian1.log_prob(input))\n",
    "        prob2 = torch.exp(self.gaussian2.log_prob(input))\n",
    "        return (torch.log(self.pi * prob1 + (1-self.pi) * prob2)).sum()"
   ]
  },
  {
   "cell_type": "markdown",
   "metadata": {
    "colab_type": "text",
    "id": "jwvLm9zGl3N7"
   },
   "source": [
    "$$\\pi = \\frac{1}{2}$$\n",
    "$$-\\ln{\\sigma_1} = 0$$\n",
    "$$-\\ln{\\sigma_2} = 6$$"
   ]
  },
  {
   "cell_type": "code",
   "execution_count": 9,
   "metadata": {
    "colab": {
     "autoexec": {
      "startup": false,
      "wait_interval": 0
     },
     "base_uri": "https://localhost:8080/",
     "height": 269
    },
    "colab_type": "code",
    "executionInfo": {
     "elapsed": 31782,
     "status": "ok",
     "timestamp": 1528263837119,
     "user": {
      "displayName": "Nitarshan Rajkumar",
      "photoUrl": "//lh6.googleusercontent.com/-oLz5q0aJmAQ/AAAAAAAAAAI/AAAAAAAAAIY/O0-NjvATt18/s50-c-k-no/photo.jpg",
      "userId": "117587045527370134083"
     },
     "user_tz": 420
    },
    "id": "fzTq5zWgo5p8",
    "outputId": "cc845c99-ce8d-4cbe-f79a-c0fd4ee72e63"
   },
   "outputs": [],
   "source": [
    "PI = 0.5\n",
    "SIGMA_1 = torch.FloatTensor([math.exp(-0)]).to(DEVICE)\n",
    "SIGMA_2 = torch.FloatTensor([math.exp(-6)]).to(DEVICE)\n",
    "\n",
    "def visualize_scale_mixture_components():\n",
    "    def show_lines():\n",
    "        pass\n",
    "    mix = ScaleMixtureGaussian(PI, SIGMA_1, SIGMA_2)\n",
    "    normal_1 = torch.distributions.Normal(0, SIGMA_1)\n",
    "    normal_2 = torch.distributions.Normal(0, SIGMA_2)\n",
    "    x_points = np.linspace(-5,5,10000)\n",
    "    d1 = np.array([torch.exp(normal_1.log_prob(float(c))) for c in x_points])\n",
    "    d2 = np.array([torch.exp(normal_2.log_prob(float(c))) for c in x_points])\n",
    "    d3 = np.array([torch.exp(mix.log_prob(float(c))) for c in x_points])\n",
    "    plt.subplots(1,3,figsize=(14,4))\n",
    "    plt.subplot(1,3,1)\n",
    "    plt.plot(x_points,d2,color=\"g\")\n",
    "    plt.plot(x_points,d3,color=\"r\")\n",
    "    plt.plot(x_points,d1,color=\"b\")\n",
    "    plt.legend([\"sigma2\", \"mix\", \"sigma1\"])\n",
    "    plt.ylim(0,0.5)\n",
    "    plt.subplot(1,3,2)\n",
    "    plt.plot(x_points,d1,color=\"b\")\n",
    "    plt.plot(x_points,d2,color=\"g\")\n",
    "    plt.plot(x_points,d3,color=\"r\")\n",
    "    plt.legend([\"sigma1\", \"sigma2\", \"mix\"])\n",
    "    plt.ylim(0,160)\n",
    "    plt.subplot(1,3,3)\n",
    "    plt.plot(x_points,d2,color=\"g\")\n",
    "    plt.plot(x_points,d3,color=\"r\")\n",
    "    plt.plot(x_points,d1,color=\"b\")\n",
    "    plt.legend([\"sigma2\", \"mix\", \"sigma1\"])\n",
    "    plt.ylim(0,80)\n",
    "    \n",
    "#visualize_scale_mixture_components()"
   ]
  },
  {
   "cell_type": "code",
   "execution_count": 10,
   "metadata": {
    "colab": {
     "autoexec": {
      "startup": false,
      "wait_interval": 0
     }
    },
    "colab_type": "code",
    "id": "ju2J8fneo7kc"
   },
   "outputs": [],
   "source": [
    "class BayesianLinear(nn.Module):\n",
    "    def __init__(self, in_features, out_features):\n",
    "        super().__init__()\n",
    "        self.in_features = in_features\n",
    "        self.out_features = out_features\n",
    "        # Weight parameters\n",
    "        self.weight_mu = nn.Parameter(torch.Tensor(out_features, in_features).uniform_(-0.2, 0.2))\n",
    "        self.weight_rho = nn.Parameter(torch.Tensor(out_features, in_features).uniform_(-5,-4))\n",
    "        self.weight = Gaussian(self.weight_mu, self.weight_rho)\n",
    "        # Bias parameters\n",
    "        self.bias_mu = nn.Parameter(torch.Tensor(out_features).uniform_(-0.2, 0.2))\n",
    "        self.bias_rho = nn.Parameter(torch.Tensor(out_features).uniform_(-5,-4))\n",
    "        self.bias = Gaussian(self.bias_mu, self.bias_rho)\n",
    "        # Prior distributions\n",
    "        self.weight_prior = ScaleMixtureGaussian(PI, SIGMA_1, SIGMA_2)\n",
    "        self.bias_prior = ScaleMixtureGaussian(PI, SIGMA_1, SIGMA_2)\n",
    "        self.log_prior = 0\n",
    "        self.log_variational_posterior = 0\n",
    "\n",
    "    def forward(self, input, sample=False, calculate_log_probs=False):\n",
    "        if self.training or sample:\n",
    "            weight = self.weight.sample()\n",
    "            bias = self.bias.sample()\n",
    "        else:\n",
    "            weight = self.weight.mu\n",
    "            bias = self.bias.mu\n",
    "        if self.training or calculate_log_probs:\n",
    "            self.log_prior = self.weight_prior.log_prob(weight) + self.bias_prior.log_prob(bias)\n",
    "            self.log_variational_posterior = self.weight.log_prob(weight) + self.bias.log_prob(bias)\n",
    "        else:\n",
    "            self.log_prior, self.log_variational_posterior = 0, 0\n",
    "\n",
    "        return F.linear(input, weight, bias)"
   ]
  },
  {
   "cell_type": "code",
   "execution_count": 11,
   "metadata": {
    "colab": {
     "autoexec": {
      "startup": false,
      "wait_interval": 0
     }
    },
    "colab_type": "code",
    "id": "itSuNJtYo-X7"
   },
   "outputs": [],
   "source": [
    "class BayesianNetwork(nn.Module):\n",
    "    def __init__(self):\n",
    "        super().__init__()\n",
    "        # for breast 28*28 and OUT 2\n",
    "        # for MNIST and FMINSt 28*28 and OUT 10\n",
    "        self.l1 = BayesianLinear(28*28, 400)\n",
    "        self.l2 = BayesianLinear(400, 400)\n",
    "        self.l3 = BayesianLinear(400, 2)\n",
    "    \n",
    "    def forward(self, x, sample=False):\n",
    "        x = x.view(-1, 28*28)\n",
    "        x = F.relu(self.l1(x, sample))\n",
    "        x = F.relu(self.l2(x, sample))\n",
    "        x = F.log_softmax(self.l3(x, sample), dim=1)\n",
    "        return x\n",
    "    \n",
    "    def log_prior(self):\n",
    "        return self.l1.log_prior \\\n",
    "               + self.l2.log_prior \\\n",
    "               + self.l3.log_prior\n",
    "    \n",
    "    def log_variational_posterior(self):\n",
    "        return self.l1.log_variational_posterior \\\n",
    "               + self.l2.log_variational_posterior \\\n",
    "               + self.l3.log_variational_posterior\n",
    "    \n",
    "    def sample_elbo(self, input, target, samples=SAMPLES):\n",
    "        \n",
    "        outputs = torch.zeros(samples, BATCH_SIZE, CLASSES).to(DEVICE)\n",
    "        #print(\"OUTPUT\", outputs.shape)\n",
    "        #print(\"INPUT\", input.shape)\n",
    "        log_priors = torch.zeros(samples).to(DEVICE)\n",
    "        log_variational_posteriors = torch.zeros(samples).to(DEVICE)\n",
    "        for i in range(samples):\n",
    "            outputs[i] = self(input, sample=True)\n",
    "            log_priors[i] = self.log_prior()\n",
    "            log_variational_posteriors[i] = self.log_variational_posterior()\n",
    "        log_prior = log_priors.mean()\n",
    "        log_variational_posterior = log_variational_posteriors.mean()\n",
    "        negative_log_likelihood = F.nll_loss(outputs.mean(0), target, size_average=False)\n",
    "        loss = (log_variational_posterior - log_prior)/NUM_BATCHES + negative_log_likelihood\n",
    "        return loss, log_prior, log_variational_posterior, negative_log_likelihood\n",
    "\n",
    "net = BayesianNetwork().to(DEVICE)"
   ]
  },
  {
   "cell_type": "markdown",
   "metadata": {
    "colab_type": "text",
    "id": "h-HLpkfPm2BI"
   },
   "source": [
    "## Training"
   ]
  },
  {
   "cell_type": "code",
   "execution_count": 12,
   "metadata": {
    "colab": {
     "autoexec": {
      "startup": false,
      "wait_interval": 0
     }
    },
    "colab_type": "code",
    "id": "SJXePX9KpAu0"
   },
   "outputs": [],
   "source": [
    "def write_weight_histograms(epoch):\n",
    "    writer.add_histogram('histogram/w1_mu', net.l1.weight_mu,epoch)\n",
    "    writer.add_histogram('histogram/w1_rho', net.l1.weight_rho,epoch)\n",
    "    writer.add_histogram('histogram/w2_mu', net.l2.weight_mu,epoch)\n",
    "    writer.add_histogram('histogram/w2_rho', net.l2.weight_rho,epoch)\n",
    "    writer.add_histogram('histogram/w3_mu', net.l3.weight_mu,epoch)\n",
    "    writer.add_histogram('histogram/w3_rho', net.l3.weight_rho,epoch)\n",
    "    writer.add_histogram('histogram/b1_mu', net.l1.bias_mu,epoch)\n",
    "    writer.add_histogram('histogram/b1_rho', net.l1.bias_rho,epoch)\n",
    "    writer.add_histogram('histogram/b2_mu', net.l2.bias_mu,epoch)\n",
    "    writer.add_histogram('histogram/b2_rho', net.l2.bias_rho,epoch)\n",
    "    writer.add_histogram('histogram/b3_mu', net.l3.bias_mu,epoch)\n",
    "    writer.add_histogram('histogram/b3_rho', net.l3.bias_rho,epoch)\n",
    "\n",
    "def write_loss_scalars(epoch, batch_idx, loss, log_prior, log_variational_posterior, negative_log_likelihood):\n",
    "    writer.add_scalar('logs/loss', loss, epoch*NUM_BATCHES+batch_idx)\n",
    "    writer.add_scalar('logs/complexity_cost', log_variational_posterior-log_prior, epoch*NUM_BATCHES+batch_idx)\n",
    "    writer.add_scalar('logs/log_prior', log_prior, epoch*NUM_BATCHES+batch_idx)\n",
    "    writer.add_scalar('logs/log_variational_posterior', log_variational_posterior, epoch*NUM_BATCHES+batch_idx)\n",
    "    writer.add_scalar('logs/negative_log_likelihood', negative_log_likelihood, epoch*NUM_BATCHES+batch_idx)"
   ]
  },
  {
   "cell_type": "code",
   "execution_count": 13,
   "metadata": {
    "colab": {
     "autoexec": {
      "startup": false,
      "wait_interval": 0
     }
    },
    "colab_type": "code",
    "id": "q31y405kpGxt"
   },
   "outputs": [],
   "source": [
    "def train(net, optimizer, epoch):\n",
    "    net.train()\n",
    "    if epoch == 0: # write initial distributions\n",
    "        write_weight_histograms(epoch)\n",
    "    for batch_idx, (data, target) in enumerate(tqdm(train_loader)):\n",
    "        target = target.squeeze().long()\n",
    "        data, target = data.to(DEVICE), target.to(DEVICE)\n",
    "        net.zero_grad()\n",
    "        loss, log_prior, log_variational_posterior, negative_log_likelihood = net.sample_elbo(data, target)\n",
    "        loss.backward()\n",
    "        optimizer.step()\n",
    "        write_loss_scalars(epoch, batch_idx, loss, log_prior, log_variational_posterior, negative_log_likelihood)\n",
    "    write_weight_histograms(epoch+1)"
   ]
  },
  {
   "cell_type": "code",
   "execution_count": 14,
   "metadata": {
    "colab": {
     "autoexec": {
      "startup": false,
      "wait_interval": 0
     },
     "base_uri": "https://localhost:8080/",
     "height": 357
    },
    "colab_type": "code",
    "executionInfo": {
     "elapsed": 1090232,
     "status": "ok",
     "timestamp": 1528264929340,
     "user": {
      "displayName": "Nitarshan Rajkumar",
      "photoUrl": "//lh6.googleusercontent.com/-oLz5q0aJmAQ/AAAAAAAAAAI/AAAAAAAAAIY/O0-NjvATt18/s50-c-k-no/photo.jpg",
      "userId": "117587045527370134083"
     },
     "user_tz": 420
    },
    "id": "cWaZ4c93pJkm",
    "outputId": "379e274f-ac3b-406b-9d31-c1a760242f84"
   },
   "outputs": [
    {
     "name": "stderr",
     "output_type": "stream",
     "text": [
      "  0%|          | 0/21 [00:00<?, ?it/s]/opt/anaconda3/envs/torch-gpu/lib/python3.8/site-packages/torch/nn/_reduction.py:42: UserWarning: size_average and reduce args will be deprecated, please use reduction='sum' instead.\n",
      "  warnings.warn(warning.format(ret))\n",
      "100%|██████████| 21/21 [00:04<00:00,  4.28it/s]\n",
      "100%|██████████| 21/21 [00:03<00:00,  5.39it/s]\n",
      "100%|██████████| 21/21 [00:03<00:00,  5.39it/s]\n",
      "100%|██████████| 21/21 [00:03<00:00,  5.46it/s]\n",
      "100%|██████████| 21/21 [00:03<00:00,  5.35it/s]\n",
      "100%|██████████| 21/21 [00:03<00:00,  5.40it/s]\n",
      "100%|██████████| 21/21 [00:03<00:00,  5.36it/s]\n",
      "100%|██████████| 21/21 [00:04<00:00,  4.46it/s]\n",
      "100%|██████████| 21/21 [00:03<00:00,  5.32it/s]\n",
      "100%|██████████| 21/21 [00:03<00:00,  5.43it/s]\n",
      "100%|██████████| 21/21 [00:03<00:00,  5.43it/s]\n",
      "100%|██████████| 21/21 [00:03<00:00,  5.44it/s]\n",
      "100%|██████████| 21/21 [00:03<00:00,  5.32it/s]\n",
      "100%|██████████| 21/21 [00:03<00:00,  5.47it/s]\n",
      "100%|██████████| 21/21 [00:03<00:00,  5.45it/s]\n",
      "100%|██████████| 21/21 [00:03<00:00,  5.48it/s]\n",
      "100%|██████████| 21/21 [00:03<00:00,  5.45it/s]\n",
      "100%|██████████| 21/21 [00:03<00:00,  5.48it/s]\n",
      "100%|██████████| 21/21 [00:03<00:00,  5.44it/s]\n",
      "100%|██████████| 21/21 [00:03<00:00,  5.44it/s]\n",
      "100%|██████████| 21/21 [00:03<00:00,  5.44it/s]\n",
      "100%|██████████| 21/21 [00:03<00:00,  5.46it/s]\n",
      "100%|██████████| 21/21 [00:03<00:00,  5.48it/s]\n",
      "100%|██████████| 21/21 [00:03<00:00,  5.47it/s]\n",
      "100%|██████████| 21/21 [00:03<00:00,  5.47it/s]\n",
      "100%|██████████| 21/21 [00:03<00:00,  5.47it/s]\n",
      "100%|██████████| 21/21 [00:03<00:00,  5.44it/s]\n",
      "100%|██████████| 21/21 [00:03<00:00,  5.48it/s]\n",
      "100%|██████████| 21/21 [00:03<00:00,  5.49it/s]\n",
      "100%|██████████| 21/21 [00:03<00:00,  5.31it/s]\n",
      "100%|██████████| 21/21 [00:03<00:00,  5.46it/s]\n",
      "100%|██████████| 21/21 [00:03<00:00,  5.46it/s]\n",
      "100%|██████████| 21/21 [00:03<00:00,  5.47it/s]\n",
      "100%|██████████| 21/21 [00:03<00:00,  5.50it/s]\n",
      "100%|██████████| 21/21 [00:03<00:00,  5.48it/s]\n",
      "100%|██████████| 21/21 [00:03<00:00,  5.50it/s]\n",
      "100%|██████████| 21/21 [00:03<00:00,  5.52it/s]\n",
      "100%|██████████| 21/21 [00:03<00:00,  5.51it/s]\n",
      "100%|██████████| 21/21 [00:03<00:00,  5.52it/s]\n",
      "100%|██████████| 21/21 [00:03<00:00,  5.47it/s]\n"
     ]
    }
   ],
   "source": [
    "optimizer = optim.Adam(net.parameters())\n",
    "for epoch in range(40):\n",
    "    train(net, optimizer, epoch)\n",
    "\n",
    "path = 'Results/BBB_breast_400_adam_ID0_notebook'\n",
    "torch.save(net.state_dict(), path + '.pth')"
   ]
  },
  {
   "cell_type": "markdown",
   "metadata": {
    "colab_type": "text",
    "id": "LwmjhEqlm64B"
   },
   "source": [
    "## Evaluation"
   ]
  },
  {
   "cell_type": "markdown",
   "metadata": {
    "colab_type": "text",
    "id": "F6zoJviDmArm"
   },
   "source": [
    "### Model Ensemble"
   ]
  },
  {
   "cell_type": "code",
   "execution_count": 15,
   "metadata": {
    "colab": {
     "autoexec": {
      "startup": false,
      "wait_interval": 0
     },
     "base_uri": "https://localhost:8080/",
     "height": 221
    },
    "colab_type": "code",
    "executionInfo": {
     "elapsed": 198116,
     "status": "ok",
     "timestamp": 1528265127612,
     "user": {
      "displayName": "Nitarshan Rajkumar",
      "photoUrl": "//lh6.googleusercontent.com/-oLz5q0aJmAQ/AAAAAAAAAAI/AAAAAAAAAIY/O0-NjvATt18/s50-c-k-no/photo.jpg",
      "userId": "117587045527370134083"
     },
     "user_tz": 420
    },
    "id": "j4OzjvLHpL3o",
    "outputId": "1a8164fc-85d0-4b08-e010-33c3b7322b09"
   },
   "outputs": [
    {
     "name": "stdout",
     "output_type": "stream",
     "text": [
      "Component 0 Accuracy: 126/156\n",
      "Component 1 Accuracy: 129/156\n",
      "Component 2 Accuracy: 128/156\n",
      "Component 3 Accuracy: 132/156\n",
      "Component 4 Accuracy: 125/156\n",
      "Component 5 Accuracy: 127/156\n",
      "Component 6 Accuracy: 127/156\n",
      "Component 7 Accuracy: 128/156\n",
      "Component 8 Accuracy: 130/156\n",
      "Component 9 Accuracy: 121/156\n",
      "Posterior Mean Accuracy: 128/156\n",
      "Ensemble Accuracy: 127/156\n"
     ]
    }
   ],
   "source": [
    "def test_ensemble():\n",
    "    net.eval()\n",
    "    correct = 0\n",
    "    corrects = np.zeros(TEST_SAMPLES+1, dtype=int)\n",
    "    with torch.no_grad():\n",
    "        for data, target in test_loader:\n",
    "            data, target = data.to(DEVICE), target.to(DEVICE)\n",
    "            outputs = torch.zeros(TEST_SAMPLES+1, TEST_BATCH_SIZE, CLASSES).to(DEVICE)\n",
    "            for i in range(TEST_SAMPLES):\n",
    "                outputs[i] = net(data, sample=True)\n",
    "            outputs[TEST_SAMPLES] = net(data, sample=False)\n",
    "            output = outputs.mean(0)\n",
    "            preds = preds = outputs.max(2, keepdim=True)[1]\n",
    "            pred = output.max(1, keepdim=True)[1] # index of max log-probability\n",
    "            corrects += preds.eq(target.view_as(pred)).sum(dim=1).squeeze().cpu().numpy()\n",
    "            correct += pred.eq(target.view_as(pred)).sum().item()\n",
    "    for index, num in enumerate(corrects):\n",
    "        if index < TEST_SAMPLES:\n",
    "            print('Component {} Accuracy: {}/{}'.format(index, num, TEST_SIZE))\n",
    "        else:\n",
    "            print('Posterior Mean Accuracy: {}/{}'.format(num, TEST_SIZE))\n",
    "    print('Ensemble Accuracy: {}/{}'.format(correct, TEST_SIZE))\n",
    "\n",
    "test_ensemble()"
   ]
  },
  {
   "cell_type": "markdown",
   "metadata": {
    "colab_type": "text",
    "id": "1Xa8bwZcnO2R"
   },
   "source": [
    "### Model Uncertainty"
   ]
  },
  {
   "cell_type": "markdown",
   "metadata": {
    "colab_type": "text",
    "id": "jMpmGG8unTUQ"
   },
   "source": [
    "#### In-Domain Uncertainty"
   ]
  },
  {
   "cell_type": "code",
   "execution_count": 17,
   "metadata": {
    "colab": {
     "autoexec": {
      "startup": false,
      "wait_interval": 0
     }
    },
    "colab_type": "code",
    "id": "qwd_xrtqpsvJ"
   },
   "outputs": [],
   "source": [
    "def show(img):\n",
    "    npimg = img.numpy()\n",
    "    plt.imshow(np.transpose(npimg, (1,2,0)), interpolation='nearest')"
   ]
  },
  {
   "cell_type": "code",
   "execution_count": 18,
   "metadata": {
    "colab": {
     "autoexec": {
      "startup": false,
      "wait_interval": 0
     },
     "base_uri": "https://localhost:8080/",
     "height": 161
    },
    "colab_type": "code",
    "executionInfo": {
     "elapsed": 639,
     "status": "ok",
     "timestamp": 1528265130861,
     "user": {
      "displayName": "Nitarshan Rajkumar",
      "photoUrl": "//lh6.googleusercontent.com/-oLz5q0aJmAQ/AAAAAAAAAAI/AAAAAAAAAIY/O0-NjvATt18/s50-c-k-no/photo.jpg",
      "userId": "117587045527370134083"
     },
     "user_tz": 420
    },
    "id": "WhBywGVNpt9p",
    "outputId": "1528cd63-e80a-49fa-8ab9-2c46c786cc7f"
   },
   "outputs": [
    {
     "name": "stderr",
     "output_type": "stream",
     "text": [
      "Clipping input data to the valid range for imshow with RGB data ([0..1] for floats or [0..255] for integers).\n"
     ]
    },
    {
     "name": "stdout",
     "output_type": "stream",
     "text": [
      "tensor([[0],\n",
      "        [1],\n",
      "        [1],\n",
      "        [1]])\n"
     ]
    },
    {
     "data": {
      "image/png": "[encoded data removed]",
      "text/plain": [
       "<Figure size 640x480 with 1 Axes>"
      ]
     },
     "metadata": {},
     "output_type": "display_data"
    }
   ],
   "source": [
    "dataiter = iter(test_loader)\n",
    "sample = next(dataiter)\n",
    "\n",
    "sample[0] = sample[0].to(DEVICE)\n",
    "print(sample[1])\n",
    "sns.set_style(\"dark\")\n",
    "show(make_grid(sample[0].cpu()))"
   ]
  },
  {
   "cell_type": "code",
   "execution_count": 26,
   "metadata": {},
   "outputs": [
    {
     "name": "stderr",
     "output_type": "stream",
     "text": [
      "Clipping input data to the valid range for imshow with RGB data ([0..1] for floats or [0..255] for integers).\n"
     ]
    },
    {
     "name": "stdout",
     "output_type": "stream",
     "text": [
      "tensor([[1],\n",
      "        [1],\n",
      "        [1],\n",
      "        [1]])\n"
     ]
    },
    {
     "data": {
      "image/png": "[encoded data removed]",
      "text/plain": [
       "<Figure size 640x480 with 1 Axes>"
      ]
     },
     "metadata": {},
     "output_type": "display_data"
    }
   ],
   "source": [
    "sample = next(dataiter)\n",
    "sample[0] = sample[0].to(DEVICE)\n",
    "print(sample[1])\n",
    "sns.set_style(\"dark\")\n",
    "show(make_grid(sample[0].cpu()))"
   ]
  },
  {
   "cell_type": "code",
   "execution_count": 27,
   "metadata": {
    "colab": {
     "autoexec": {
      "startup": false,
      "wait_interval": 0
     },
     "base_uri": "https://localhost:8080/",
     "height": 283
    },
    "colab_type": "code",
    "executionInfo": {
     "elapsed": 2293,
     "status": "ok",
     "timestamp": 1528265133412,
     "user": {
      "displayName": "Nitarshan Rajkumar",
      "photoUrl": "//lh6.googleusercontent.com/-oLz5q0aJmAQ/AAAAAAAAAAI/AAAAAAAAAIY/O0-NjvATt18/s50-c-k-no/photo.jpg",
      "userId": "117587045527370134083"
     },
     "user_tz": 420
    },
    "id": "PBxwd31ppwIo",
    "outputId": "4349ee1a-6102-4e84-daf5-fe7888db37e0"
   },
   "outputs": [
    {
     "data": {
      "image/png": "[encoded data removed]",
      "text/plain": [
       "<Figure size 1000x400 with 4 Axes>"
      ]
     },
     "metadata": {},
     "output_type": "display_data"
    }
   ],
   "source": [
    "net.eval()\n",
    "outputs = net(sample[0], True).max(1, keepdim=True)[1].detach().cpu().numpy()\n",
    "for _ in range(99):\n",
    "    outputs = np.append(outputs, net(sample[0], True).max(1, keepdim=True)[1].detach().cpu().numpy(), axis=1)\n",
    "sns.set_style(\"darkgrid\")\n",
    "plt.subplots(4,1,figsize=(10,4))\n",
    "for i in range(4):\n",
    "    plt.subplot(4,1,i+1)\n",
    "    plt.ylim(0,100)\n",
    "    plt.xlabel(\"Categories\")\n",
    "    #plt.xticks(range(10), [\"Top\", \"Trouser\", \"Pullover\", \"Dress\", \"Coat\", \"Sandal\", \"Shirt\", \"Sneaker\", \"Bag\", \"Ankle Boot\"])\n",
    "    plt.xticks(range(2), [\"Malignant\", \"Benignant\"])\n",
    "    plt.ylabel(\"Count\")\n",
    "    plt.yticks(range(50,101,50))\n",
    "    plt.hist(outputs[i], np.arange(-0.5, 2, 1))"
   ]
  },
  {
   "cell_type": "markdown",
   "metadata": {
    "colab_type": "text",
    "id": "1v7EqhO5nY52"
   },
   "source": [
    "#### Out-of-Domain Uncertainty"
   ]
  },
  {
   "cell_type": "code",
   "execution_count": 37,
   "metadata": {},
   "outputs": [
    {
     "name": "stdout",
     "output_type": "stream",
     "text": [
      "Using downloaded and verified file: /Users/emmaprevot/.medmnist/pneumoniamnist.npz\n"
     ]
    }
   ],
   "source": [
    "info = INFO['pneumoniamnist']\n",
    "task = info['task']\n",
    "n_channels = info['n_channels']\n",
    "n_classes = len(info['label'])\n",
    "DataClass = getattr(medmnist, info['python_class'])\n",
    "# preprocessing\n",
    "data_transform = transforms.Compose([\n",
    "    transforms.ToTensor(),\n",
    "    transforms.Normalize(mean=[.5], std=[.5])\n",
    "])\n",
    "# load the data\n",
    "train_dataset = DataClass(split='train', transform=data_transform, download=True)\n",
    "ood_loader = data.DataLoader(dataset=train_dataset,  batch_size=4, shuffle=True)"
   ]
  },
  {
   "cell_type": "markdown",
   "metadata": {},
   "source": [
    "\"pneumoniamnist\": {\n",
    "        \"python_class\": \"PneumoniaMNIST\",\n",
    "        \"description\":\n",
    "        \"The PneumoniaMNIST is based on a prior dataset of 5,856 pediatric chest X-Ray images. The task is binary-class classification of pneumonia against normal. We split the source training set with a ratio of 9:1 into training and validation set and use its source validation set as the test set. The source images are gray-scale, and their sizes are (384−2,916)×(127−2,713). We center-crop the images and resize them into 1×28×28.\",\n",
    "        \"url\":\n",
    "        \"https://zenodo.org/record/6496656/files/pneumoniamnist.npz?download=1\",\n",
    "        \"MD5\": \"28209eda62fecd6e6a2d98b1501bb15f\",\n",
    "        \"task\": \"binary-class\",\n",
    "        \"label\": {\n",
    "            \"0\": \"normal\",\n",
    "            \"1\": \"pneumonia\"\n",
    "        },\n",
    "        \"n_channels\": 1,\n",
    "        \"n_samples\": {\n",
    "            \"train\": 4708,\n",
    "            \"val\": 524,\n",
    "            \"test\": 624\n",
    "        },\n",
    "        \"license\": \"CC BY 4.0\"\n",
    "    },"
   ]
  },
  {
   "cell_type": "code",
   "execution_count": 23,
   "metadata": {
    "cellView": "both",
    "colab": {
     "autoexec": {
      "startup": false,
      "wait_interval": 0
     }
    },
    "colab_type": "code",
    "id": "MkgNoIeCpzVF"
   },
   "outputs": [],
   "source": [
    "mnist_loader = torch.utils.data.DataLoader(\n",
    "    datasets.MNIST('./mnist', train=False, download=True, transform=transforms.ToTensor()), batch_size=5, shuffle=False)"
   ]
  },
  {
   "cell_type": "code",
   "execution_count": 24,
   "metadata": {
    "colab": {
     "autoexec": {
      "startup": false,
      "wait_interval": 0
     },
     "base_uri": "https://localhost:8080/",
     "height": 161
    },
    "colab_type": "code",
    "executionInfo": {
     "elapsed": 501,
     "status": "ok",
     "timestamp": 1528265134913,
     "user": {
      "displayName": "Nitarshan Rajkumar",
      "photoUrl": "//lh6.googleusercontent.com/-oLz5q0aJmAQ/AAAAAAAAAAI/AAAAAAAAAIY/O0-NjvATt18/s50-c-k-no/photo.jpg",
      "userId": "117587045527370134083"
     },
     "user_tz": 420
    },
    "id": "oB1TCdv7C97a",
    "outputId": "36b7bec9-7b6a-4f8a-80ae-98180f9b65a3"
   },
   "outputs": [
    {
     "name": "stdout",
     "output_type": "stream",
     "text": [
      "tensor([7, 2, 1, 0, 4])\n"
     ]
    },
    {
     "data": {
      "image/png": "[encoded data removed]",
      "text/plain": [
       "<Figure size 640x480 with 1 Axes>"
      ]
     },
     "metadata": {},
     "output_type": "display_data"
    }
   ],
   "source": [
    "dataiter = iter(mnist_loader)\n",
    "ood_sample = next(dataiter)\n",
    "\n",
    "ood_sample[0] = ood_sample[0].to(DEVICE)\n",
    "print(ood_sample[1])\n",
    "sns.set_style(\"dark\")\n",
    "show(make_grid(ood_sample[0].cpu()))"
   ]
  },
  {
   "cell_type": "code",
   "execution_count": 25,
   "metadata": {
    "colab": {
     "autoexec": {
      "startup": false,
      "wait_interval": 0
     },
     "base_uri": "https://localhost:8080/",
     "height": 283
    },
    "colab_type": "code",
    "executionInfo": {
     "elapsed": 2254,
     "status": "ok",
     "timestamp": 1528265137311,
     "user": {
      "displayName": "Nitarshan Rajkumar",
      "photoUrl": "//lh6.googleusercontent.com/-oLz5q0aJmAQ/AAAAAAAAAAI/AAAAAAAAAIY/O0-NjvATt18/s50-c-k-no/photo.jpg",
      "userId": "117587045527370134083"
     },
     "user_tz": 420
    },
    "id": "DLSygPieC-7q",
    "outputId": "5b016b5a-7256-4af6-f6f5-53487b841137"
   },
   "outputs": [
    {
     "name": "stderr",
     "output_type": "stream",
     "text": [
      "/var/folders/47/7414tgbs2kz1x5ql498d6hth0000gn/T/ipykernel_48162/1157789764.py:9: MatplotlibDeprecationWarning: Auto-removal of overlapping axes is deprecated since 3.6 and will be removed two minor releases later; explicitly call ax.remove() as needed.\n",
      "  plt.subplot(5,1,i+1)\n"
     ]
    },
    {
     "data": {
      "image/png": "[encoded data removed]",
      "text/plain": [
       "<Figure size 1000x400 with 5 Axes>"
      ]
     },
     "metadata": {},
     "output_type": "display_data"
    }
   ],
   "source": [
    "net.eval()\n",
    "ood_outputs = net(ood_sample[0], True).max(1, keepdim=True)[1].detach().cpu().numpy()\n",
    "for _ in range(99):\n",
    "    ood_outputs = np.append(ood_outputs, net(ood_sample[0], True).max(1, keepdim=True)[1].detach().cpu().numpy(), axis=1)\n",
    "\n",
    "sns.set_style(\"darkgrid\")\n",
    "plt.subplots(4,1,figsize=(10,4))\n",
    "for i in range(5):\n",
    "    plt.subplot(5,1,i+1)\n",
    "    plt.ylim(0,100)\n",
    "    plt.xlabel(\"Categories\")\n",
    "    plt.xticks(range(10), [\"Top\", \"Trouser\", \"Pullover\", \"Dress\", \"Coat\", \"Sandal\", \"Shirt\", \"Sneaker\", \"Bag\", \"Ankle Boot\"])\n",
    "    plt.ylabel(\"Count\")\n",
    "    plt.yticks(range(50,101,50))\n",
    "    plt.hist(ood_outputs[i], np.arange(-0.5, 10, 1))"
   ]
  },
  {
   "cell_type": "code",
   "execution_count": null,
   "metadata": {},
   "outputs": [],
   "source": []
  },
  {
   "cell_type": "markdown",
   "metadata": {},
   "source": [
    "# Weight Pruning"
   ]
  },
  {
   "cell_type": "code",
   "execution_count": 28,
   "metadata": {},
   "outputs": [
    {
     "data": {
      "text/plain": [
       "BayesianNetwork(\n",
       "  (l1): BayesianLinear()\n",
       "  (l2): BayesianLinear()\n",
       "  (l3): BayesianLinear()\n",
       ")"
      ]
     },
     "execution_count": 28,
     "metadata": {},
     "output_type": "execute_result"
    }
   ],
   "source": [
    "HIDDEN = 400\n",
    "modelpath = \"Results/BBB_breast_400_adam_ID0_notebook.pth\"\n",
    "\n",
    "model = BayesianNetwork()\n",
    "\n",
    "model.load_state_dict(torch.load(modelpath, map_location='cpu'))\n",
    "model.eval()"
   ]
  },
  {
   "cell_type": "code",
   "execution_count": 29,
   "metadata": {},
   "outputs": [],
   "source": [
    "def getThreshold(model,buckets):\n",
    "    sigmas = []\n",
    "    mus = []\n",
    "\n",
    "    sigmas.append(model.state_dict()['l1.weight_rho'].view(-1).cpu().detach().numpy())\n",
    "    sigmas.append(model.state_dict()['l2.weight_rho'].view(-1).cpu().detach().numpy())\n",
    "    sigmas.append(model.state_dict()['l3.weight_rho'].view(-1).cpu().detach().numpy())\n",
    "\n",
    "    mus.append(model.state_dict()['l1.weight_mu'].view(-1).cpu().detach().numpy())\n",
    "    mus.append(model.state_dict()['l2.weight_mu'].view(-1).cpu().detach().numpy())\n",
    "    mus.append(model.state_dict()['l3.weight_mu'].view(-1).cpu().detach().numpy())\n",
    "    \n",
    "\n",
    "    sigmas = np.concatenate(sigmas).ravel()\n",
    "    mus = np.concatenate(mus).ravel()\n",
    "    sigmas = np.log(1. + np.exp(sigmas))\n",
    "    sign_to_noise = np.abs(mus) / sigmas\n",
    "    p = np.percentile(sign_to_noise, buckets)\n",
    "    \n",
    "    s = np.log10(sign_to_noise)/10\n",
    "    hist, bin_edges = np.histogram(s, bins='auto')\n",
    "    hist = hist / s.size\n",
    "    X =[]\n",
    "    for i in range(hist.size):\n",
    "        X.append((bin_edges[i]+bin_edges[i+1])*0.5)\n",
    "    \n",
    "    plt.plot(X,hist)\n",
    "    plt.axvline(x= np.log10(p[2])/10, color='red')\n",
    "    plt.ylabel('Density')\n",
    "    plt.xlabel('Signal−to−Noise Ratio (dB)')\n",
    "    plt.savefig('./Results/SignalToNoiseRatioDensity_400_breast.png')\n",
    "    plt.savefig('./Results/SignalToNoiseRatioDensity_400_breast.eps', format='eps', dpi=1000)\n",
    "\n",
    "    plt.figure(2)\n",
    "    Y = np.cumsum(hist)\n",
    "    plt.plot(X, Y)\n",
    "    plt.axvline(x= np.log10(p[2])/10, color='red')\n",
    "    plt.hlines(y= 0.75, xmin=np.min(s),xmax=np.max(s),colors='red')\n",
    "    plt.ylabel('CDF')\n",
    "    plt.xlabel('Signal−to−Noise Ratio (dB)')\n",
    "    plt.savefig('./Results/SignalToNoiseRatioDensity_CDF_400_breast.png')\n",
    "    plt.savefig('./Results/SignalToNoiseRatioDensity_CDF_400_breast.eps', format='eps', dpi=1000)\n",
    "    \n",
    "    return p"
   ]
  },
  {
   "cell_type": "code",
   "execution_count": 30,
   "metadata": {},
   "outputs": [
    {
     "data": {
      "image/png": "[encoded data removed]",
      "text/plain": [
       "<Figure size 640x480 with 1 Axes>"
      ]
     },
     "metadata": {},
     "output_type": "display_data"
    },
    {
     "data": {
      "image/png": "[encoded data removed]",
      "text/plain": [
       "<Figure size 640x480 with 1 Axes>"
      ]
     },
     "metadata": {},
     "output_type": "display_data"
    }
   ],
   "source": [
    "buckets = np.asarray([0,50,75,95,98])\n",
    "thresholds = getThreshold(model,buckets)\n",
    "model_name = modelpath.split(\"/\")[1].split(\".\")[0]"
   ]
  },
  {
   "cell_type": "code",
   "execution_count": 32,
   "metadata": {},
   "outputs": [
    {
     "name": "stdout",
     "output_type": "stream",
     "text": [
      "0 --> 1.7018546714098193e-06\n",
      "50 --> 0.4632915258407593\n",
      "75 --> 3.1207922101020813\n",
      "95 --> 6.024212479591369\n",
      "98 --> 7.426092672348022\n"
     ]
    }
   ],
   "source": [
    "import copy\n",
    "from torch.autograd import Variable\n",
    "\n",
    "for index in range(buckets.size):\n",
    "    print(buckets[index],'-->',thresholds[index])\n",
    "    t = Variable(torch.Tensor([thresholds[index]]))\n",
    "    model1 = copy.deepcopy(model)\n",
    "    for i in range(1, 4):\n",
    "        rho = model.state_dict()['l'+str(i)+'.weight_rho']\n",
    "        mu = model.state_dict()['l'+str(i)+'.weight_mu'] \n",
    "        sigma = np.log(1. + np.exp(rho.cpu().numpy()))\n",
    "        signalRatio = np.abs(mu.cpu().numpy()) / sigma\n",
    "        signalRatio = (torch.from_numpy(signalRatio) > t).float() * 1\n",
    "        model1.state_dict()['l'+str(i)+'.weight_rho'].data.copy_(rho * signalRatio)\n",
    "        model1.state_dict()['l'+str(i)+'.weight_mu'].data.copy_(mu * signalRatio)\n",
    "\n",
    "    torch.save(model1.state_dict(), 'Models/' + model_name + '_Pruned_'+str(buckets[index])+'.pth')"
   ]
  },
  {
   "cell_type": "markdown",
   "metadata": {},
   "source": [
    "## Evaluate pruned models"
   ]
  },
  {
   "cell_type": "code",
   "execution_count": 33,
   "metadata": {},
   "outputs": [
    {
     "name": "stdout",
     "output_type": "stream",
     "text": [
      "BBB_breast_400_adam_ID0_notebook_Pruned_50.pth\n",
      "Component 0 Accuracy: 99/156\n",
      "Component 1 Accuracy: 78/156\n",
      "Component 2 Accuracy: 78/156\n",
      "Component 3 Accuracy: 90/156\n",
      "Component 4 Accuracy: 87/156\n",
      "Component 5 Accuracy: 74/156\n",
      "Component 6 Accuracy: 91/156\n",
      "Component 7 Accuracy: 73/156\n",
      "Component 8 Accuracy: 86/156\n",
      "Component 9 Accuracy: 87/156\n",
      "Posterior Mean Accuracy: 127/156\n",
      "Ensemble Accuracy: 92/156\n",
      "BBB_breast_400_adam_ID0_notebook_Pruned_95.pth\n",
      "Component 0 Accuracy: 86/156\n",
      "Component 1 Accuracy: 81/156\n",
      "Component 2 Accuracy: 67/156\n",
      "Component 3 Accuracy: 81/156\n",
      "Component 4 Accuracy: 96/156\n",
      "Component 5 Accuracy: 81/156\n",
      "Component 6 Accuracy: 90/156\n",
      "Component 7 Accuracy: 71/156\n",
      "Component 8 Accuracy: 86/156\n",
      "Component 9 Accuracy: 77/156\n",
      "Posterior Mean Accuracy: 112/156\n",
      "Ensemble Accuracy: 88/156\n",
      "BBB_breast_400_adam_ID0_notebook_Pruned_98.pth\n",
      "Component 0 Accuracy: 84/156\n",
      "Component 1 Accuracy: 78/156\n",
      "Component 2 Accuracy: 76/156\n",
      "Component 3 Accuracy: 82/156\n",
      "Component 4 Accuracy: 71/156\n",
      "Component 5 Accuracy: 75/156\n",
      "Component 6 Accuracy: 71/156\n",
      "Component 7 Accuracy: 77/156\n",
      "Component 8 Accuracy: 84/156\n",
      "Component 9 Accuracy: 78/156\n",
      "Posterior Mean Accuracy: 96/156\n",
      "Ensemble Accuracy: 75/156\n",
      "BBB_breast_400_adam_ID0_notebook_Pruned_75.pth\n",
      "Component 0 Accuracy: 71/156\n",
      "Component 1 Accuracy: 77/156\n",
      "Component 2 Accuracy: 82/156\n",
      "Component 3 Accuracy: 72/156\n",
      "Component 4 Accuracy: 74/156\n",
      "Component 5 Accuracy: 86/156\n",
      "Component 6 Accuracy: 63/156\n",
      "Component 7 Accuracy: 70/156\n",
      "Component 8 Accuracy: 77/156\n",
      "Component 9 Accuracy: 78/156\n",
      "Posterior Mean Accuracy: 126/156\n",
      "Ensemble Accuracy: 74/156\n",
      "BBB_breast_400_adam_ID0_notebook_Pruned_0.pth\n",
      "Component 0 Accuracy: 127/156\n",
      "Component 1 Accuracy: 127/156\n",
      "Component 2 Accuracy: 127/156\n",
      "Component 3 Accuracy: 122/156\n",
      "Component 4 Accuracy: 128/156\n",
      "Component 5 Accuracy: 127/156\n",
      "Component 6 Accuracy: 126/156\n",
      "Component 7 Accuracy: 126/156\n",
      "Component 8 Accuracy: 125/156\n",
      "Component 9 Accuracy: 128/156\n",
      "Posterior Mean Accuracy: 128/156\n",
      "Ensemble Accuracy: 127/156\n"
     ]
    }
   ],
   "source": [
    "import os\n",
    "for root, dirs, files in os.walk(\"Models/\"):\n",
    "    for file in files:\n",
    "        if file.startswith('BBB_breast_400') and file.endswith(\".pth\"):\n",
    "            print(file)\n",
    "            pruned_model = BayesianNetwork().to(DEVICE)\n",
    "            pruned_model.load_state_dict(torch.load('Models/' + file))\n",
    "            pruned_model.eval()\n",
    "\n",
    "            correct = 0\n",
    "            corrects = np.zeros(TEST_SAMPLES+1, dtype=int)\n",
    "            with torch.no_grad():\n",
    "                for data, target in test_loader:\n",
    "                    data, target = data.to(DEVICE), target.to(DEVICE)\n",
    "                    outputs = torch.zeros(TEST_SAMPLES+1, TEST_BATCH_SIZE, CLASSES).to(DEVICE)\n",
    "                    for i in range(TEST_SAMPLES):\n",
    "                        outputs[i] = pruned_model(data, sample=True)\n",
    "                    outputs[TEST_SAMPLES] = pruned_model(data, sample=False)\n",
    "                    output = outputs.mean(0)\n",
    "                    preds = preds = outputs.max(2, keepdim=True)[1]\n",
    "                    pred = output.max(1, keepdim=True)[1] # index of max log-probability\n",
    "                    corrects += preds.eq(target.view_as(pred)).sum(dim=1).squeeze().cpu().numpy()\n",
    "                    correct += pred.eq(target.view_as(pred)).sum().item()\n",
    "            for index, num in enumerate(corrects):\n",
    "                if index < TEST_SAMPLES:\n",
    "                    print('Component {} Accuracy: {}/{}'.format(index, num, TEST_SIZE))\n",
    "                else:\n",
    "                    print('Posterior Mean Accuracy: {}/{}'.format(num, TEST_SIZE))\n",
    "            print('Ensemble Accuracy: {}/{}'.format(correct, TEST_SIZE))"
   ]
  },
  {
   "cell_type": "markdown",
   "metadata": {},
   "source": [
    "## Uncertainty of the pruned model"
   ]
  },
  {
   "cell_type": "code",
   "execution_count": 34,
   "metadata": {},
   "outputs": [
    {
     "name": "stderr",
     "output_type": "stream",
     "text": [
      "Clipping input data to the valid range for imshow with RGB data ([0..1] for floats or [0..255] for integers).\n"
     ]
    },
    {
     "name": "stdout",
     "output_type": "stream",
     "text": [
      "tensor([[0],\n",
      "        [1],\n",
      "        [1],\n",
      "        [1]])\n"
     ]
    },
    {
     "data": {
      "image/png": "[encoded data removed]",
      "text/plain": [
       "<Figure size 640x480 with 1 Axes>"
      ]
     },
     "metadata": {},
     "output_type": "display_data"
    }
   ],
   "source": [
    "pruned_model = BayesianNetwork().to(DEVICE)\n",
    "pruned_model.load_state_dict(torch.load('Models/BBB_breast_400_adam_ID0_notebook_Pruned_50.pth'))\n",
    "\n",
    "\n",
    "dataiter = iter(test_loader)\n",
    "sample = next(dataiter)\n",
    "\n",
    "sample[0] = sample[0].to(DEVICE)\n",
    "print(sample[1])\n",
    "sns.set_style(\"dark\")\n",
    "show(make_grid(sample[0].cpu()))\n"
   ]
  },
  {
   "cell_type": "code",
   "execution_count": 38,
   "metadata": {},
   "outputs": [
    {
     "name": "stderr",
     "output_type": "stream",
     "text": [
      "Clipping input data to the valid range for imshow with RGB data ([0..1] for floats or [0..255] for integers).\n"
     ]
    },
    {
     "name": "stdout",
     "output_type": "stream",
     "text": [
      "tensor([[1],\n",
      "        [1],\n",
      "        [1],\n",
      "        [1]])\n"
     ]
    },
    {
     "data": {
      "image/png": "[encoded data removed]",
      "text/plain": [
       "<Figure size 640x480 with 1 Axes>"
      ]
     },
     "metadata": {},
     "output_type": "display_data"
    }
   ],
   "source": [
    "sample = next(dataiter)\n",
    "\n",
    "sample[0] = sample[0].to(DEVICE)\n",
    "print(sample[1])\n",
    "sns.set_style(\"dark\")\n",
    "show(make_grid(sample[0].cpu()))"
   ]
  },
  {
   "cell_type": "code",
   "execution_count": 39,
   "metadata": {},
   "outputs": [
    {
     "data": {
      "image/png": "[encoded data removed]",
      "text/plain": [
       "<Figure size 1000x400 with 4 Axes>"
      ]
     },
     "metadata": {},
     "output_type": "display_data"
    }
   ],
   "source": [
    "\n",
    "pruned_model.eval()\n",
    "outputs = pruned_model(sample[0], True).max(1, keepdim=True)[1].detach().cpu().numpy()\n",
    "for _ in range(99):\n",
    "    outputs = np.append(outputs, pruned_model(sample[0], True).max(1, keepdim=True)[1].detach().cpu().numpy(), axis=1)\n",
    "sns.set_style(\"darkgrid\")\n",
    "plt.subplots(4,1,figsize=(10,4))\n",
    "for i in range(4):\n",
    "    plt.subplot(4,1,i+1)\n",
    "    plt.ylim(0,100)\n",
    "    plt.xlabel(\"Categories\")\n",
    "    plt.xticks(range(2), [\"Malignant\", \"Benignant\"])\n",
    "    #plt.xticks(range(10), [\"Top\", \"Trouser\", \"Pullover\", \"Dress\", \"Coat\", \"Sandal\", \"Shirt\", \"Sneaker\", \"Bag\", \"Ankle Boot\"])\n",
    "    plt.ylabel(\"Count\")\n",
    "    plt.yticks(range(50,101,50))\n",
    "    plt.hist(outputs[i], np.arange(-0.5, 2, 1))"
   ]
  },
  {
   "cell_type": "code",
   "execution_count": null,
   "metadata": {},
   "outputs": [],
   "source": []
  }
 ],
 "metadata": {
  "accelerator": "GPU",
  "colab": {
   "collapsed_sections": [],
   "default_view": {},
   "name": "bayes-by-backprop.ipynb",
   "provenance": [],
   "version": "0.3.2",
   "views": {}
  },
  "kernelspec": {
   "display_name": "Python 3.8.16 ('torch-gpu')",
   "language": "python",
   "name": "python3"
  },
  "language_info": {
   "codemirror_mode": {
    "name": "ipython",
    "version": 3
   },
   "file_extension": ".py",
   "mimetype": "text/x-python",
   "name": "python",
   "nbconvert_exporter": "python",
   "pygments_lexer": "ipython3",
   "version": "3.8.16"
  },
  "vscode": {
   "interpreter": {
    "hash": "dfe6e941a7766b4f667e721109bb1bb456cb30f9a228822b81d8f31d2ac25a3d"
   }
  }
 },
 "nbformat": 4,
 "nbformat_minor": 2
}
